{
 "cells": [
  {
   "cell_type": "markdown",
   "id": "9ce9181d",
   "metadata": {},
   "source": [
    "# Gradient Boosting\n",
    "\n",
    "Nous avons souligné qu'AdaBoost pouvait être vu comme un algorithme d'optimisation de la fonction :\n",
    "\n",
    "$$J(f) = \\displaystyle\\sum_{i=1}^n exp\\left (-y_i f(({\\mathbf x}_i) \\right )$$\n",
    "\n",
    "L'idée des méthodes de gradient boosting est de généraliser cette approche, en s'intéressant à d'autres fonctions de coût et à leurs gradients.\n",
    "\n",
    "\n",
    "## Résidus et gradient\n",
    "\n",
    "On apprend sur $Z$ une fonction (de régression, de classification) $h_1$, en utilisant un algorithme approprié. L'erreur commise par $h_1$, mesurée par la fonction de perte $\\ell$, est :\n",
    "\n",
    "$$E_{h_1} = \\displaystyle\\sum_{i=1}^n \\ell \\left (y_i,h_1(\\mathbf{x}_i)\\right )$$\n",
    "\n",
    "La quantité $e_i=y_i-h_1(\\mathbf{x}_i)$ est appelée le résidu de $h_1$ en $\\mathbf{x}_i$. S'il est possible de trouver une fonction $\\hat{h}$ telle que $\\hat{h}(\\mathbf{x}_i) = e_i$  pour tout $i\\in[\\![1, n]\\!]$, alors la nouvelle fonction de régression $F=h_1+\\hat{h}$ aura une erreur nulle sur tous les points de $\\mathcal{S}$. \n",
    "\n",
    "La recherche de $\\hat{h}$ étant difficile, on lui préfère la recherche d'une fonction $h_2$ telle que, pour tout $i\\in[\\![1,n]\\!]$ $|h_2(\\mathbf{x}_i) - e_i|<\\epsilon$, $\\epsilon>0$ petit. Dans ce cas, $F=h_1+h_2$ a une erreur $E_F$ plus petite que $E_{h_1}$.\n",
    "\n",
    "\n",
    "Si par exemple la fonction de perte est définie par l'erreur quadratique : \n",
    "\n",
    "$$\\ell\\left (y,h_1(\\mathbf{x})\\right ) = \\frac{1}{2}(y-h_1(\\mathbf{x}))^2$$\n",
    "\n",
    "alors le résidu s'écrit :\n",
    "\n",
    " $$e=y-h_1(\\mathbf{x}) = -\\frac{\\partial}{\\partial h_1(\\mathbf{x})}\\ell\\left (y,h_1(\\mathbf{x})\\right )$$\n",
    "\n",
    "et le résidu est alors l'opposé du gradient. \n",
    "\n",
    "Appliqués en $Z$, ces résidus définissent un nouvel ensemble $\\tilde{Z} = \\{\\mathbf{x}_i,e_i\\}_{1\\leq i\\leq n}$ sur lequel donc $h_2$ est appris.\n",
    "\n",
    "## Algorithme de gradient boosting\n",
    "L'idée précédente, qui consiste à écrire les résidus comme des gradients, peut être généralisée, et donne lieu à l'algorithme de gradient boosting présenté dans l'{prf:ref}`gradboosting-algorithm`.\n",
    "\n",
    "\n",
    "```{prf:algorithm} \n",
    ":label: gradboosting-algorithm\n",
    "**Entrée** : ${Z} = \\{\\mathbf{x}_i,y_i\\}_{1\\leq i\\leq n}$, $T$, $\\ell$\n",
    "\n",
    "**Sortie** : $F$\n",
    "\n",
    "1. Calculer une première hypothèse $h_1$ sur ${Z} $ \n",
    "\n",
    "2. Pour $t=2$ à $T$\n",
    "\t1. \tCalculer $(\\forall i\\in[\\![1\\cdots n]\\!])\\ e_i = -\\frac{\\partial}{\\partial h_{t-1}(\\mathbf{x}_i)}\\ell(y_i,h_{t-1}(\\mathbf{x}_i))$\n",
    "\t2.\tConstruire $\\tilde{Z} = \\{\\mathbf{x}_i,e_i\\}_{1\\leq i\\leq n}$\n",
    "\t3.\tApprendre $g$ sur $\\tilde{Z}$\n",
    "\t4.\tCalculer $\\lambda_t = arg \\displaystyle\\min_{\\lambda} \\left (\\displaystyle\\sum_{i=1}^n \\ell\\left ( y_i,h_{t-1}(\\mathbf{x}_i)+\\lambda g(\\mathbf{x}_i)\\right ) \\right )$\n",
    "\t5.\tDéfinir $h_t = h_{t-1} + \\lambda_t g$\n",
    "3. $F = h_T$\n",
    "```\n",
    "\n",
    "\n",
    "\n",
    "La méthode agit de la même manière qu'une descente de gradient en ajustant l'hypothèse $h_t$ en fonction de l'opposé du gradient de la fonction de perte $\\ell$. \n",
    "\n",
    "Nous avons introduit la méthode avec la fonction de perte quadratique, mais toute fonction de coût et les gradients associés peuvent être utilisés.\n",
    "\n",
    "\n",
    "Parmi tous les algorithmes de gradient boosting, XGBoost (Extreme Gradient Boosting),  LightGBM, tous deux utilisant des arbres de régression comme hypothèses, ont démontré leur efficacité lors de nombreux défis. En 2018, CatBoost a permis d'adapter ce type d'approche à des données catégorielles."
   ]
  }
 ],
 "metadata": {
  "jupytext": {
   "formats": "md:myst",
   "text_representation": {
    "extension": ".md",
    "format_name": "myst"
   }
  },
  "kernelspec": {
   "display_name": "Python 3",
   "language": "python",
   "name": "python3"
  },
  "language_info": {
   "codemirror_mode": {
    "name": "ipython",
    "version": 3
   },
   "file_extension": ".py",
   "mimetype": "text/x-python",
   "name": "python",
   "nbconvert_exporter": "python",
   "pygments_lexer": "ipython3",
   "version": "3.9.17"
  },
  "source_map": [
   11
  ]
 },
 "nbformat": 4,
 "nbformat_minor": 5
}