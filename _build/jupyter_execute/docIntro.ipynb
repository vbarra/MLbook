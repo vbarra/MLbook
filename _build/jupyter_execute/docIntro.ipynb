{
 "cells": [
  {
   "cell_type": "markdown",
   "id": "8de73d2d",
   "metadata": {},
   "source": [
    "# Ressources\n",
    "\n",
    "- [Diapositives](./Diapos/intro.pdf) du cours\n",
    "- Liens vers les données du tp : \n",
    "  - [Acceléromètre](https://archive.ics.uci.edu/ml/datasets/Accelerometer)\n",
    "  - [Crises cardiaques](https://archive.ics.uci.edu/ml/datasets/Heart+failure+clinical+records)\n",
    "  - [Crédits bancaires](https://archive.ics.uci.edu/ml/datasets/South+German+Credit+%28UPDATE%29)\n",
    "  - [Copistes de la bible](https://archive.ics.uci.edu/ml/datasets/Avila)\n",
    "  - [Feux de forêts en Algérie](https://archive.ics.uci.edu/ml/datasets/Algerian+Forest+Fires+Dataset)"
   ]
  }
 ],
 "metadata": {
  "jupytext": {
   "formats": "md:myst",
   "text_representation": {
    "extension": ".md",
    "format_name": "myst"
   }
  },
  "language_info": {
   "codemirror_mode": {
    "name": "ipython",
    "version": 3
   },
   "file_extension": ".py",
   "mimetype": "text/x-python",
   "name": "python",
   "nbconvert_exporter": "python",
   "pygments_lexer": "ipython3",
   "version": "3.9.20"
  },
  "source_map": [
   7
  ]
 },
 "nbformat": 4,
 "nbformat_minor": 5
}