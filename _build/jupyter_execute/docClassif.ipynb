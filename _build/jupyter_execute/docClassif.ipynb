{
 "cells": [
  {
   "cell_type": "markdown",
   "id": "a8bab783",
   "metadata": {},
   "source": [
    "# Ressources\n",
    "\n",
    "- [Diapositives](./Diapos/classification.pdf) du cours\n",
    "- [Jeu de données](./Diapos/bankruptcy.zip)"
   ]
  }
 ],
 "metadata": {
  "jupytext": {
   "formats": "md:myst",
   "text_representation": {
    "extension": ".md",
    "format_name": "myst"
   }
  },
  "language_info": {
   "codemirror_mode": {
    "name": "ipython",
    "version": 3
   },
   "file_extension": ".py",
   "mimetype": "text/x-python",
   "name": "python",
   "nbconvert_exporter": "python",
   "pygments_lexer": "ipython3",
   "version": "3.9.20"
  },
  "source_map": [
   7
  ]
 },
 "nbformat": 4,
 "nbformat_minor": 5
}